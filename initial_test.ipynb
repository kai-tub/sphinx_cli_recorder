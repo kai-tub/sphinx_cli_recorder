{
 "cells": [
  {
   "cell_type": "markdown",
   "metadata": {},
   "source": [
    "Sphinx Extension:\n",
    "- Parse every place where the command is used and inject it to the common tree structure, but do _not_ run the code\n",
    "\t- Run the code with async await in a common loop to generate the output\n",
    "\t\t- I don't think that function can be awaited...\n",
    "\t\t- Maybe start with parallel?\n",
    "\t- Ideally use the same output/file for the exakt same configuration\n",
    "\t- Ensure that the output is _never_ cached!\n",
    "\t\t- The underlying function might be change without the documentation changing\n",
    "\n",
    "- Do not forget! The output is a _file_ that needs to be referenced!\n",
    "\t- The output is _not_ text, the text is part of the node that could be further processed.\n",
    "\t- It probably should be a container node\n",
    "\t\t- looks like kwargs are passed as is and stored inside of the node\n",
    "\t\t- "
   ]
  },
  {
   "cell_type": "code",
   "execution_count": 17,
   "metadata": {},
   "outputs": [],
   "source": [
    "from asciinema.recorder import record\n",
    "\n",
    "record(\"test.rec\", \"asciinema_hello\")"
   ]
  },
  {
   "cell_type": "code",
   "execution_count": 23,
   "metadata": {},
   "outputs": [
    {
     "name": "stdout",
     "output_type": "stream",
     "text": [
      "\u001b[0;31mInit signature:\u001b[0m \u001b[0mnodes\u001b[0m\u001b[0;34m.\u001b[0m\u001b[0mcontainer\u001b[0m\u001b[0;34m(\u001b[0m\u001b[0mrawsource\u001b[0m\u001b[0;34m=\u001b[0m\u001b[0;34m''\u001b[0m\u001b[0;34m,\u001b[0m \u001b[0;34m*\u001b[0m\u001b[0mchildren\u001b[0m\u001b[0;34m,\u001b[0m \u001b[0;34m**\u001b[0m\u001b[0mattributes\u001b[0m\u001b[0;34m)\u001b[0m\u001b[0;34m\u001b[0m\u001b[0;34m\u001b[0m\u001b[0m\n",
      "\u001b[0;31mDocstring:\u001b[0m     \n",
      "`Element` is the superclass to all specific elements.\n",
      "\n",
      "Elements contain attributes and child nodes.  Elements emulate\n",
      "dictionaries for attributes, indexing by attribute name (a string).  To\n",
      "set the attribute 'att' to 'value', do::\n",
      "\n",
      "    element['att'] = 'value'\n",
      "\n",
      "There are two special attributes: 'ids' and 'names'.  Both are\n",
      "lists of unique identifiers, and names serve as human interfaces\n",
      "to IDs.  Names are case- and whitespace-normalized (see the\n",
      "fully_normalize_name() function), and IDs conform to the regular\n",
      "expression ``[a-z](-?[a-z0-9]+)*`` (see the make_id() function).\n",
      "\n",
      "Elements also emulate lists for child nodes (element nodes and/or text\n",
      "nodes), indexing by integer.  To get the first child node, use::\n",
      "\n",
      "    element[0]\n",
      "\n",
      "Elements may be constructed using the ``+=`` operator.  To add one new\n",
      "child node to element, do::\n",
      "\n",
      "    element += node\n",
      "\n",
      "This is equivalent to ``element.append(node)``.\n",
      "\n",
      "To add a list of multiple child nodes at once, use the same ``+=``\n",
      "operator::\n",
      "\n",
      "    element += [node1, node2]\n",
      "\n",
      "This is equivalent to ``element.extend([node1, node2])``.\n",
      "\u001b[0;31mSource:\u001b[0m         \u001b[0;32mclass\u001b[0m \u001b[0mcontainer\u001b[0m\u001b[0;34m(\u001b[0m\u001b[0mGeneral\u001b[0m\u001b[0;34m,\u001b[0m \u001b[0mElement\u001b[0m\u001b[0;34m)\u001b[0m\u001b[0;34m:\u001b[0m \u001b[0;32mpass\u001b[0m\u001b[0;34m\u001b[0m\u001b[0;34m\u001b[0m\u001b[0m\n",
      "\u001b[0;31mFile:\u001b[0m           ~/.cache/pypoetry/virtualenvs/asciinema-sphinx-vB6_R_IB-py3.9/lib/python3.9/site-packages/docutils/nodes.py\n",
      "\u001b[0;31mType:\u001b[0m           type\n",
      "\u001b[0;31mSubclasses:\u001b[0m     \n"
     ]
    }
   ],
   "source": [
    "from docutils import nodes\n",
    "nodes.container??"
   ]
  },
  {
   "cell_type": "code",
   "execution_count": null,
   "metadata": {},
   "outputs": [],
   "source": []
  }
 ],
 "metadata": {
  "interpreter": {
   "hash": "691b376e3d6125083291769b9ee3f65b447e047f1c65eb5aac16f9e49689f769"
  },
  "kernelspec": {
   "display_name": "Python 3.9.7 ('asciinema-sphinx-vB6_R_IB-py3.9')",
   "language": "python",
   "name": "python3"
  },
  "language_info": {
   "codemirror_mode": {
    "name": "ipython",
    "version": 3
   },
   "file_extension": ".py",
   "mimetype": "text/x-python",
   "name": "python",
   "nbconvert_exporter": "python",
   "pygments_lexer": "ipython3",
   "version": "3.9.7"
  },
  "orig_nbformat": 4
 },
 "nbformat": 4,
 "nbformat_minor": 2
}
