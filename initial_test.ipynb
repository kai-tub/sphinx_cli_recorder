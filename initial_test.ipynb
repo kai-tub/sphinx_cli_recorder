{
 "cells": [
  {
   "cell_type": "markdown",
   "metadata": {},
   "source": [
    "Sphinx Extension:\n",
    "- Parse every place where the command is used and inject it to the common tree structure, but do _not_ run the code\n",
    "\t- Run the code with async await in a common loop to generate the output\n",
    "\t\t- I don't think that function can be awaited...\n",
    "\t\t- Maybe start with parallel?\n",
    "\t- Ideally use the same output/file for the exakt same configuration\n",
    "\t- Ensure that the output is _never_ cached!\n",
    "\t\t- The underlying function might be change without the documentation changing\n",
    "\n",
    "- Do not forget! The output is a _file_ that needs to be referenced!\n",
    "\t- The output is _not_ text, the text is part of the node that could be further processed.\n",
    "\t- It probably should be a container node\n",
    "\t\t- looks like kwargs are passed as is and stored inside of the node\n",
    "\t\t- "
   ]
  },
  {
   "cell_type": "code",
   "execution_count": 17,
   "metadata": {},
   "outputs": [],
   "source": [
    "from asciinema.recorder import record\n",
    "\n",
    "record(\"test.rec\", \"asciinema_hello\")"
   ]
  },
  {
   "cell_type": "code",
   "execution_count": 5,
   "metadata": {},
   "outputs": [],
   "source": [
    "from docutils import nodes\n",
    "c = nodes.container(command=\"python -V\")"
   ]
  },
  {
   "cell_type": "code",
   "execution_count": 1,
   "metadata": {},
   "outputs": [
    {
     "name": "stdout",
     "output_type": "stream",
     "text": [
      "(asciinema-sphinx-vB6_R_IB-py3.9) "
     ]
    },
    {
     "ename": "KeyboardInterrupt",
     "evalue": "",
     "output_type": "error",
     "traceback": [
      "\u001b[0;31m---------------------------------------------------------------------------\u001b[0m",
      "\u001b[0;31mKeyboardInterrupt\u001b[0m                         Traceback (most recent call last)",
      "\u001b[1;32m/home/kai/git/asciinema_sphinx/initial_test.ipynb Cell 4'\u001b[0m in \u001b[0;36m<module>\u001b[0;34m\u001b[0m\n\u001b[1;32m      <a href='vscode-notebook-cell:/home/kai/git/asciinema_sphinx/initial_test.ipynb#ch0000003?line=8'>9</a>\u001b[0m     \u001b[39mreturn\u001b[39;00m data\n\u001b[1;32m     <a href='vscode-notebook-cell:/home/kai/git/asciinema_sphinx/initial_test.ipynb#ch0000003?line=9'>10</a>\u001b[0m script\u001b[39m.\u001b[39mwrite(\u001b[39m\"\u001b[39m\u001b[39mThis is the start\u001b[39m\u001b[39m\"\u001b[39m\u001b[39m.\u001b[39mencode())\n\u001b[0;32m---> <a href='vscode-notebook-cell:/home/kai/git/asciinema_sphinx/initial_test.ipynb#ch0000003?line=10'>11</a>\u001b[0m pty\u001b[39m.\u001b[39;49mspawn(shell, read)\n\u001b[1;32m     <a href='vscode-notebook-cell:/home/kai/git/asciinema_sphinx/initial_test.ipynb#ch0000003?line=11'>12</a>\u001b[0m script\u001b[39m.\u001b[39mwrite(\u001b[39m\"\u001b[39m\u001b[39mThis is the end\u001b[39m\u001b[39m\"\u001b[39m\u001b[39m.\u001b[39mencode())\n",
      "File \u001b[0;32m~/mambaforge/lib/python3.9/pty.py:166\u001b[0m, in \u001b[0;36mspawn\u001b[0;34m(argv, master_read, stdin_read)\u001b[0m\n\u001b[1;32m    <a href='file:///~/mambaforge/lib/python3.9/pty.py?line=163'>164</a>\u001b[0m     restore \u001b[39m=\u001b[39m \u001b[39m0\u001b[39m\n\u001b[1;32m    <a href='file:///~/mambaforge/lib/python3.9/pty.py?line=164'>165</a>\u001b[0m \u001b[39mtry\u001b[39;00m:\n\u001b[0;32m--> <a href='file:///~/mambaforge/lib/python3.9/pty.py?line=165'>166</a>\u001b[0m     _copy(master_fd, master_read, stdin_read)\n\u001b[1;32m    <a href='file:///~/mambaforge/lib/python3.9/pty.py?line=166'>167</a>\u001b[0m \u001b[39mexcept\u001b[39;00m \u001b[39mOSError\u001b[39;00m:\n\u001b[1;32m    <a href='file:///~/mambaforge/lib/python3.9/pty.py?line=167'>168</a>\u001b[0m     \u001b[39mif\u001b[39;00m restore:\n",
      "File \u001b[0;32m~/mambaforge/lib/python3.9/pty.py:137\u001b[0m, in \u001b[0;36m_copy\u001b[0;34m(master_fd, master_read, stdin_read)\u001b[0m\n\u001b[1;32m    <a href='file:///~/mambaforge/lib/python3.9/pty.py?line=134'>135</a>\u001b[0m fds \u001b[39m=\u001b[39m [master_fd, STDIN_FILENO]\n\u001b[1;32m    <a href='file:///~/mambaforge/lib/python3.9/pty.py?line=135'>136</a>\u001b[0m \u001b[39mwhile\u001b[39;00m \u001b[39mTrue\u001b[39;00m:\n\u001b[0;32m--> <a href='file:///~/mambaforge/lib/python3.9/pty.py?line=136'>137</a>\u001b[0m     rfds, wfds, xfds \u001b[39m=\u001b[39m select(fds, [], [])\n\u001b[1;32m    <a href='file:///~/mambaforge/lib/python3.9/pty.py?line=137'>138</a>\u001b[0m     \u001b[39mif\u001b[39;00m master_fd \u001b[39min\u001b[39;00m rfds:\n\u001b[1;32m    <a href='file:///~/mambaforge/lib/python3.9/pty.py?line=138'>139</a>\u001b[0m         data \u001b[39m=\u001b[39m master_read(master_fd)\n",
      "\u001b[0;31mKeyboardInterrupt\u001b[0m: "
     ]
    }
   ],
   "source": [
    "\n"
   ]
  },
  {
   "cell_type": "code",
   "execution_count": 12,
   "metadata": {},
   "outputs": [
    {
     "name": "stdout",
     "output_type": "stream",
     "text": [
      "\u001b[0;31mInit signature:\u001b[0m \u001b[0mnodes\u001b[0m\u001b[0;34m.\u001b[0m\u001b[0madmonition\u001b[0m\u001b[0;34m(\u001b[0m\u001b[0mrawsource\u001b[0m\u001b[0;34m=\u001b[0m\u001b[0;34m''\u001b[0m\u001b[0;34m,\u001b[0m \u001b[0;34m*\u001b[0m\u001b[0mchildren\u001b[0m\u001b[0;34m,\u001b[0m \u001b[0;34m**\u001b[0m\u001b[0mattributes\u001b[0m\u001b[0;34m)\u001b[0m\u001b[0;34m\u001b[0m\u001b[0;34m\u001b[0m\u001b[0m\n",
      "\u001b[0;31mDocstring:\u001b[0m     \n",
      "`Element` is the superclass to all specific elements.\n",
      "\n",
      "Elements contain attributes and child nodes.  Elements emulate\n",
      "dictionaries for attributes, indexing by attribute name (a string).  To\n",
      "set the attribute 'att' to 'value', do::\n",
      "\n",
      "    element['att'] = 'value'\n",
      "\n",
      "There are two special attributes: 'ids' and 'names'.  Both are\n",
      "lists of unique identifiers, and names serve as human interfaces\n",
      "to IDs.  Names are case- and whitespace-normalized (see the\n",
      "fully_normalize_name() function), and IDs conform to the regular\n",
      "expression ``[a-z](-?[a-z0-9]+)*`` (see the make_id() function).\n",
      "\n",
      "Elements also emulate lists for child nodes (element nodes and/or text\n",
      "nodes), indexing by integer.  To get the first child node, use::\n",
      "\n",
      "    element[0]\n",
      "\n",
      "Elements may be constructed using the ``+=`` operator.  To add one new\n",
      "child node to element, do::\n",
      "\n",
      "    element += node\n",
      "\n",
      "This is equivalent to ``element.append(node)``.\n",
      "\n",
      "To add a list of multiple child nodes at once, use the same ``+=``\n",
      "operator::\n",
      "\n",
      "    element += [node1, node2]\n",
      "\n",
      "This is equivalent to ``element.extend([node1, node2])``.\n",
      "\u001b[0;31mSource:\u001b[0m         \u001b[0;32mclass\u001b[0m \u001b[0madmonition\u001b[0m\u001b[0;34m(\u001b[0m\u001b[0mAdmonition\u001b[0m\u001b[0;34m,\u001b[0m \u001b[0mElement\u001b[0m\u001b[0;34m)\u001b[0m\u001b[0;34m:\u001b[0m \u001b[0;32mpass\u001b[0m\u001b[0;34m\u001b[0m\u001b[0;34m\u001b[0m\u001b[0m\n",
      "\u001b[0;31mFile:\u001b[0m           ~/.cache/pypoetry/virtualenvs/asciinema-sphinx-vB6_R_IB-py3.9/lib/python3.9/site-packages/docutils/nodes.py\n",
      "\u001b[0;31mType:\u001b[0m           type\n",
      "\u001b[0;31mSubclasses:\u001b[0m     \n"
     ]
    }
   ],
   "source": [
    "nodes.admonition??"
   ]
  },
  {
   "cell_type": "code",
   "execution_count": 1,
   "metadata": {},
   "outputs": [
    {
     "name": "stdout",
     "output_type": "stream",
     "text": [
      "Object `nodes.document` not found.\n"
     ]
    }
   ],
   "source": [
    "nodes.document??"
   ]
  },
  {
   "cell_type": "code",
   "execution_count": 3,
   "metadata": {},
   "outputs": [],
   "source": [
    "import yamale\n"
   ]
  },
  {
   "cell_type": "code",
   "execution_count": 17,
   "metadata": {},
   "outputs": [],
   "source": [
    "sends_example = \"\"\"\n",
    "- \":\"\n",
    "- \"y\"\n",
    "\"\"\"\n",
    "\n",
    "wait_and_sends_example = \"\"\"\n",
    "# - [\":\", \"b\"]\n",
    "-\n",
    "    - \":\"\n",
    "    - \"b\"\n",
    "- [\"y\", \"y\"]\n",
    "\"\"\"\n",
    "\n",
    "wrong_example = \"\"\"\n",
    "- [\":\", \"b\"]\n",
    "- \"a\"\n",
    "\"\"\"\n",
    "\n",
    "wrong_example2 = \"\"\"\n",
    "- [\"a\", \"b\"]\n",
    "- [\"a\", \"b\", \"c\"]\n",
    "\"\"\""
   ]
  },
  {
   "cell_type": "code",
   "execution_count": 18,
   "metadata": {},
   "outputs": [
    {
     "data": {
      "text/plain": [
       "True"
      ]
     },
     "execution_count": 18,
     "metadata": {},
     "output_type": "execute_result"
    }
   ],
   "source": [
    "# list(list(min=2, max=2), str())\n",
    "# any(list(include('wait-and-sends')), list(include('only-sends')))\n",
    "spec = \"\"\"\n",
    "any(include('wait-for-and-sends'), include('only-sends'))\n",
    "---\n",
    "wait-for-and-sends:\n",
    "    list(include('wait-for-and-send'))\n",
    "\n",
    "wait-for-and-send:\n",
    "    list(min=2, max=2)\n",
    "\n",
    "only-sends:\n",
    "    list(include('only-send'))\n",
    "\n",
    "only-send:\n",
    "    str()\n",
    "\"\"\"\n",
    "\n",
    "send_spec = \"\"\"\n",
    "list\n",
    "\"\"\"\n",
    "\n",
    "schema = yamale.make_schema(content=spec)\n",
    "# schema.validate(input_example, )\n",
    "data = yamale.make_data(content=wrong_example2)\n",
    "# yamale.validate(schema, data)\n",
    "schema.validate(data, \"name\", strict=True).isValid()\n",
    "# data"
   ]
  },
  {
   "cell_type": "code",
   "execution_count": 49,
   "metadata": {},
   "outputs": [
    {
     "data": {
      "text/plain": [
       "True"
      ]
     },
     "execution_count": 49,
     "metadata": {},
     "output_type": "execute_result"
    }
   ],
   "source": [
    "import yaml\n",
    "\n",
    "\n",
    "spec = \"\"\"\n",
    "list(min=2)\n",
    "\"\"\"\n",
    "schema = yamale.make_schema(content=spec)\n",
    "# if string is given only first \n",
    "# data, path = yamale.make_data(content=\"- a\\n- b\")[0]\n",
    "content = \"- a\\n- b\"\n",
    "data = yaml.safe_load(content)\n",
    "\n",
    "schema.validate(data, None, strict=True).isValid()"
   ]
  },
  {
   "cell_type": "code",
   "execution_count": 46,
   "metadata": {},
   "outputs": [
    {
     "name": "stdout",
     "output_type": "stream",
     "text": [
      "\u001b[0;31mSignature:\u001b[0m \u001b[0myamale\u001b[0m\u001b[0;34m.\u001b[0m\u001b[0mmake_data\u001b[0m\u001b[0;34m(\u001b[0m\u001b[0mpath\u001b[0m\u001b[0;34m=\u001b[0m\u001b[0;32mNone\u001b[0m\u001b[0;34m,\u001b[0m \u001b[0mparser\u001b[0m\u001b[0;34m=\u001b[0m\u001b[0;34m'PyYAML'\u001b[0m\u001b[0;34m,\u001b[0m \u001b[0mcontent\u001b[0m\u001b[0;34m=\u001b[0m\u001b[0;32mNone\u001b[0m\u001b[0;34m)\u001b[0m\u001b[0;34m\u001b[0m\u001b[0;34m\u001b[0m\u001b[0m\n",
      "\u001b[0;31mDocstring:\u001b[0m <no docstring>\n",
      "\u001b[0;31mSource:\u001b[0m   \n",
      "\u001b[0;32mdef\u001b[0m \u001b[0mmake_data\u001b[0m\u001b[0;34m(\u001b[0m\u001b[0mpath\u001b[0m\u001b[0;34m=\u001b[0m\u001b[0;32mNone\u001b[0m\u001b[0;34m,\u001b[0m \u001b[0mparser\u001b[0m\u001b[0;34m=\u001b[0m\u001b[0;34m'PyYAML'\u001b[0m\u001b[0;34m,\u001b[0m \u001b[0mcontent\u001b[0m\u001b[0;34m=\u001b[0m\u001b[0;32mNone\u001b[0m\u001b[0;34m)\u001b[0m\u001b[0;34m:\u001b[0m\u001b[0;34m\u001b[0m\n",
      "\u001b[0;34m\u001b[0m    \u001b[0;32mfrom\u001b[0m \u001b[0;34m.\u001b[0m \u001b[0;32mimport\u001b[0m \u001b[0mreaders\u001b[0m\u001b[0;34m\u001b[0m\n",
      "\u001b[0;34m\u001b[0m    \u001b[0mraw_data\u001b[0m \u001b[0;34m=\u001b[0m \u001b[0mreaders\u001b[0m\u001b[0;34m.\u001b[0m\u001b[0mparse_yaml\u001b[0m\u001b[0;34m(\u001b[0m\u001b[0mpath\u001b[0m\u001b[0;34m,\u001b[0m \u001b[0mparser\u001b[0m\u001b[0;34m,\u001b[0m \u001b[0mcontent\u001b[0m\u001b[0;34m=\u001b[0m\u001b[0mcontent\u001b[0m\u001b[0;34m)\u001b[0m\u001b[0;34m\u001b[0m\n",
      "\u001b[0;34m\u001b[0m    \u001b[0;32mif\u001b[0m \u001b[0mlen\u001b[0m\u001b[0;34m(\u001b[0m\u001b[0mraw_data\u001b[0m\u001b[0;34m)\u001b[0m \u001b[0;34m==\u001b[0m \u001b[0;36m0\u001b[0m\u001b[0;34m:\u001b[0m\u001b[0;34m\u001b[0m\n",
      "\u001b[0;34m\u001b[0m        \u001b[0;32mreturn\u001b[0m \u001b[0;34m[\u001b[0m\u001b[0;34m(\u001b[0m\u001b[0;34m{\u001b[0m\u001b[0;34m}\u001b[0m\u001b[0;34m,\u001b[0m \u001b[0mpath\u001b[0m\u001b[0;34m)\u001b[0m\u001b[0;34m]\u001b[0m\u001b[0;34m\u001b[0m\n",
      "\u001b[0;34m\u001b[0m    \u001b[0;32mreturn\u001b[0m \u001b[0;34m[\u001b[0m\u001b[0;34m(\u001b[0m\u001b[0md\u001b[0m\u001b[0;34m,\u001b[0m \u001b[0mpath\u001b[0m\u001b[0;34m)\u001b[0m \u001b[0;32mfor\u001b[0m \u001b[0md\u001b[0m \u001b[0;32min\u001b[0m \u001b[0mraw_data\u001b[0m\u001b[0;34m]\u001b[0m\u001b[0;34m\u001b[0m\u001b[0;34m\u001b[0m\u001b[0m\n",
      "\u001b[0;31mFile:\u001b[0m      ~/.cache/pypoetry/virtualenvs/sphinx-auto-asciinema-SvEYESQl-py3.9/lib/python3.9/site-packages/yamale/yamale.py\n",
      "\u001b[0;31mType:\u001b[0m      function\n"
     ]
    }
   ],
   "source": [
    "yamale.make_data??"
   ]
  },
  {
   "cell_type": "code",
   "execution_count": 31,
   "metadata": {},
   "outputs": [
    {
     "data": {
      "text/plain": [
       "True"
      ]
     },
     "execution_count": 31,
     "metadata": {},
     "output_type": "execute_result"
    }
   ],
   "source": [
    "# schema.validate??\n",
    "yamale.validate(schema, data)[0].isValid()"
   ]
  },
  {
   "cell_type": "code",
   "execution_count": 39,
   "metadata": {},
   "outputs": [
    {
     "data": {
      "text/plain": [
       "[(['a', 'b'], None)]"
      ]
     },
     "execution_count": 39,
     "metadata": {},
     "output_type": "execute_result"
    }
   ],
   "source": [
    "data"
   ]
  },
  {
   "cell_type": "code",
   "execution_count": 40,
   "metadata": {},
   "outputs": [
    {
     "name": "stdout",
     "output_type": "stream",
     "text": [
      "\u001b[0;31mSignature:\u001b[0m \u001b[0myamale\u001b[0m\u001b[0;34m.\u001b[0m\u001b[0mvalidate\u001b[0m\u001b[0;34m(\u001b[0m\u001b[0mschema\u001b[0m\u001b[0;34m,\u001b[0m \u001b[0mdata\u001b[0m\u001b[0;34m,\u001b[0m \u001b[0mstrict\u001b[0m\u001b[0;34m=\u001b[0m\u001b[0;32mTrue\u001b[0m\u001b[0;34m,\u001b[0m \u001b[0m_raise_error\u001b[0m\u001b[0;34m=\u001b[0m\u001b[0;32mTrue\u001b[0m\u001b[0;34m)\u001b[0m\u001b[0;34m\u001b[0m\u001b[0;34m\u001b[0m\u001b[0m\n",
      "\u001b[0;31mDocstring:\u001b[0m <no docstring>\n",
      "\u001b[0;31mSource:\u001b[0m   \n",
      "\u001b[0;32mdef\u001b[0m \u001b[0mvalidate\u001b[0m\u001b[0;34m(\u001b[0m\u001b[0mschema\u001b[0m\u001b[0;34m,\u001b[0m \u001b[0mdata\u001b[0m\u001b[0;34m,\u001b[0m \u001b[0mstrict\u001b[0m\u001b[0;34m=\u001b[0m\u001b[0;32mTrue\u001b[0m\u001b[0;34m,\u001b[0m \u001b[0m_raise_error\u001b[0m\u001b[0;34m=\u001b[0m\u001b[0;32mTrue\u001b[0m\u001b[0;34m)\u001b[0m\u001b[0;34m:\u001b[0m\u001b[0;34m\u001b[0m\n",
      "\u001b[0;34m\u001b[0m    \u001b[0mresults\u001b[0m \u001b[0;34m=\u001b[0m \u001b[0;34m[\u001b[0m\u001b[0;34m]\u001b[0m\u001b[0;34m\u001b[0m\n",
      "\u001b[0;34m\u001b[0m    \u001b[0mis_valid\u001b[0m \u001b[0;34m=\u001b[0m \u001b[0;32mTrue\u001b[0m\u001b[0;34m\u001b[0m\n",
      "\u001b[0;34m\u001b[0m    \u001b[0;32mfor\u001b[0m \u001b[0md\u001b[0m\u001b[0;34m,\u001b[0m \u001b[0mpath\u001b[0m \u001b[0;32min\u001b[0m \u001b[0mdata\u001b[0m\u001b[0;34m:\u001b[0m\u001b[0;34m\u001b[0m\n",
      "\u001b[0;34m\u001b[0m        \u001b[0mresult\u001b[0m \u001b[0;34m=\u001b[0m \u001b[0mschema\u001b[0m\u001b[0;34m.\u001b[0m\u001b[0mvalidate\u001b[0m\u001b[0;34m(\u001b[0m\u001b[0md\u001b[0m\u001b[0;34m,\u001b[0m \u001b[0mpath\u001b[0m\u001b[0;34m,\u001b[0m \u001b[0mstrict\u001b[0m\u001b[0;34m)\u001b[0m\u001b[0;34m\u001b[0m\n",
      "\u001b[0;34m\u001b[0m        \u001b[0mresults\u001b[0m\u001b[0;34m.\u001b[0m\u001b[0mappend\u001b[0m\u001b[0;34m(\u001b[0m\u001b[0mresult\u001b[0m\u001b[0;34m)\u001b[0m\u001b[0;34m\u001b[0m\n",
      "\u001b[0;34m\u001b[0m        \u001b[0mis_valid\u001b[0m \u001b[0;34m=\u001b[0m \u001b[0mis_valid\u001b[0m \u001b[0;32mand\u001b[0m \u001b[0mresult\u001b[0m\u001b[0;34m.\u001b[0m\u001b[0misValid\u001b[0m\u001b[0;34m(\u001b[0m\u001b[0;34m)\u001b[0m\u001b[0;34m\u001b[0m\n",
      "\u001b[0;34m\u001b[0m    \u001b[0;32mif\u001b[0m \u001b[0m_raise_error\u001b[0m \u001b[0;32mand\u001b[0m \u001b[0;32mnot\u001b[0m \u001b[0mis_valid\u001b[0m\u001b[0;34m:\u001b[0m\u001b[0;34m\u001b[0m\n",
      "\u001b[0;34m\u001b[0m        \u001b[0;32mraise\u001b[0m \u001b[0mYamaleError\u001b[0m\u001b[0;34m(\u001b[0m\u001b[0mresults\u001b[0m\u001b[0;34m)\u001b[0m\u001b[0;34m\u001b[0m\n",
      "\u001b[0;34m\u001b[0m    \u001b[0;32mreturn\u001b[0m \u001b[0mresults\u001b[0m\u001b[0;34m\u001b[0m\u001b[0;34m\u001b[0m\u001b[0m\n",
      "\u001b[0;31mFile:\u001b[0m      ~/.cache/pypoetry/virtualenvs/sphinx-auto-asciinema-SvEYESQl-py3.9/lib/python3.9/site-packages/yamale/yamale.py\n",
      "\u001b[0;31mType:\u001b[0m      function\n"
     ]
    }
   ],
   "source": [
    "yamale.validate??"
   ]
  },
  {
   "cell_type": "code",
   "execution_count": 16,
   "metadata": {},
   "outputs": [
    {
     "data": {
      "text/plain": [
       "[[':', 'b'], ['y', 'y']]"
      ]
     },
     "execution_count": 16,
     "metadata": {},
     "output_type": "execute_result"
    }
   ],
   "source": [
    "# data, data[0], data[0][0]\n",
    "data[0][0]"
   ]
  },
  {
   "cell_type": "code",
   "execution_count": 81,
   "metadata": {},
   "outputs": [
    {
     "name": "stdout",
     "output_type": "stream",
     "text": [
      "\u001b[0;31mSignature:\u001b[0m \u001b[0myamale\u001b[0m\u001b[0;34m.\u001b[0m\u001b[0mvalidate\u001b[0m\u001b[0;34m(\u001b[0m\u001b[0mschema\u001b[0m\u001b[0;34m,\u001b[0m \u001b[0mdata\u001b[0m\u001b[0;34m,\u001b[0m \u001b[0mstrict\u001b[0m\u001b[0;34m=\u001b[0m\u001b[0;32mTrue\u001b[0m\u001b[0;34m,\u001b[0m \u001b[0m_raise_error\u001b[0m\u001b[0;34m=\u001b[0m\u001b[0;32mTrue\u001b[0m\u001b[0;34m)\u001b[0m\u001b[0;34m\u001b[0m\u001b[0;34m\u001b[0m\u001b[0m\n",
      "\u001b[0;31mDocstring:\u001b[0m <no docstring>\n",
      "\u001b[0;31mSource:\u001b[0m   \n",
      "\u001b[0;32mdef\u001b[0m \u001b[0mvalidate\u001b[0m\u001b[0;34m(\u001b[0m\u001b[0mschema\u001b[0m\u001b[0;34m,\u001b[0m \u001b[0mdata\u001b[0m\u001b[0;34m,\u001b[0m \u001b[0mstrict\u001b[0m\u001b[0;34m=\u001b[0m\u001b[0;32mTrue\u001b[0m\u001b[0;34m,\u001b[0m \u001b[0m_raise_error\u001b[0m\u001b[0;34m=\u001b[0m\u001b[0;32mTrue\u001b[0m\u001b[0;34m)\u001b[0m\u001b[0;34m:\u001b[0m\u001b[0;34m\u001b[0m\n",
      "\u001b[0;34m\u001b[0m    \u001b[0mresults\u001b[0m \u001b[0;34m=\u001b[0m \u001b[0;34m[\u001b[0m\u001b[0;34m]\u001b[0m\u001b[0;34m\u001b[0m\n",
      "\u001b[0;34m\u001b[0m    \u001b[0mis_valid\u001b[0m \u001b[0;34m=\u001b[0m \u001b[0;32mTrue\u001b[0m\u001b[0;34m\u001b[0m\n",
      "\u001b[0;34m\u001b[0m    \u001b[0;32mfor\u001b[0m \u001b[0md\u001b[0m\u001b[0;34m,\u001b[0m \u001b[0mpath\u001b[0m \u001b[0;32min\u001b[0m \u001b[0mdata\u001b[0m\u001b[0;34m:\u001b[0m\u001b[0;34m\u001b[0m\n",
      "\u001b[0;34m\u001b[0m        \u001b[0mresult\u001b[0m \u001b[0;34m=\u001b[0m \u001b[0mschema\u001b[0m\u001b[0;34m.\u001b[0m\u001b[0mvalidate\u001b[0m\u001b[0;34m(\u001b[0m\u001b[0md\u001b[0m\u001b[0;34m,\u001b[0m \u001b[0mpath\u001b[0m\u001b[0;34m,\u001b[0m \u001b[0mstrict\u001b[0m\u001b[0;34m)\u001b[0m\u001b[0;34m\u001b[0m\n",
      "\u001b[0;34m\u001b[0m        \u001b[0mresults\u001b[0m\u001b[0;34m.\u001b[0m\u001b[0mappend\u001b[0m\u001b[0;34m(\u001b[0m\u001b[0mresult\u001b[0m\u001b[0;34m)\u001b[0m\u001b[0;34m\u001b[0m\n",
      "\u001b[0;34m\u001b[0m        \u001b[0mis_valid\u001b[0m \u001b[0;34m=\u001b[0m \u001b[0mis_valid\u001b[0m \u001b[0;32mand\u001b[0m \u001b[0mresult\u001b[0m\u001b[0;34m.\u001b[0m\u001b[0misValid\u001b[0m\u001b[0;34m(\u001b[0m\u001b[0;34m)\u001b[0m\u001b[0;34m\u001b[0m\n",
      "\u001b[0;34m\u001b[0m    \u001b[0;32mif\u001b[0m \u001b[0m_raise_error\u001b[0m \u001b[0;32mand\u001b[0m \u001b[0;32mnot\u001b[0m \u001b[0mis_valid\u001b[0m\u001b[0;34m:\u001b[0m\u001b[0;34m\u001b[0m\n",
      "\u001b[0;34m\u001b[0m        \u001b[0;32mraise\u001b[0m \u001b[0mYamaleError\u001b[0m\u001b[0;34m(\u001b[0m\u001b[0mresults\u001b[0m\u001b[0;34m)\u001b[0m\u001b[0;34m\u001b[0m\n",
      "\u001b[0;34m\u001b[0m    \u001b[0;32mreturn\u001b[0m \u001b[0mresults\u001b[0m\u001b[0;34m\u001b[0m\u001b[0;34m\u001b[0m\u001b[0m\n",
      "\u001b[0;31mFile:\u001b[0m      ~/.cache/pypoetry/virtualenvs/sphinx-auto-asciinema-SvEYESQl-py3.9/lib/python3.9/site-packages/yamale/yamale.py\n",
      "\u001b[0;31mType:\u001b[0m      function\n"
     ]
    }
   ],
   "source": [
    "yamale.validate??"
   ]
  },
  {
   "cell_type": "code",
   "execution_count": 9,
   "metadata": {},
   "outputs": [],
   "source": [
    "from sphinx_auto_asciinema.asciinema_player_settings import AsciinemaPlayerSettings\n",
    "\n",
    "a = AsciinemaPlayerSettings()"
   ]
  },
  {
   "cell_type": "code",
   "execution_count": 15,
   "metadata": {},
   "outputs": [
    {
     "data": {
      "text/plain": [
       "dict_keys(['autoplay', 'rows', 'cols', 'preload', 'loop', 'startat', 'speed', 'idletimelimit', 'theme', 'poster', 'fit', 'fontsize'])"
      ]
     },
     "execution_count": 15,
     "metadata": {},
     "output_type": "execute_result"
    }
   ],
   "source": [
    "a.__fields__.keys()"
   ]
  },
  {
   "cell_type": "code",
   "execution_count": 16,
   "metadata": {},
   "outputs": [
    {
     "data": {
      "text/plain": [
       "{'autoplay': ModelField(name='autoplay', type=bool, required=False, default=False),\n",
       " 'rows': ModelField(name='rows', type=PositiveInt, required=False, default=24),\n",
       " 'cols': ModelField(name='cols', type=PositiveInt, required=False, default=80),\n",
       " 'preload': ModelField(name='preload', type=bool, required=False, default=False),\n",
       " 'loop': ModelField(name='loop', type=Union[bool, PositiveInt], required=False, default=False),\n",
       " 'startat': ModelField(name='startat', type=Union[str, PositiveInt], required=False, default=0),\n",
       " 'speed': ModelField(name='speed', type=PositiveFloat, required=False, default=1.0),\n",
       " 'idletimelimit': ModelField(name='idletimelimit', type=Optional[PositiveFloat], required=False, default=None),\n",
       " 'theme': ModelField(name='theme', type=AsciinemaTheme, required=False, default=<AsciinemaTheme.monokai: 'monokai'>),\n",
       " 'poster': ModelField(name='poster', type=Optional[str], required=False, default=None),\n",
       " 'fit': ModelField(name='fit', type=AsciinemaFit, required=False, default=<AsciinemaFit.width: 'width'>),\n",
       " 'fontsize': ModelField(name='fontsize', type=str, required=False, default='small')}"
      ]
     },
     "execution_count": 16,
     "metadata": {},
     "output_type": "execute_result"
    }
   ],
   "source": [
    "# AsciinemaPlayerSettings.__fields__\n"
   ]
  },
  {
   "cell_type": "code",
   "execution_count": null,
   "metadata": {},
   "outputs": [],
   "source": []
  }
 ],
 "metadata": {
  "interpreter": {
   "hash": "691b376e3d6125083291769b9ee3f65b447e047f1c65eb5aac16f9e49689f769"
  },
  "kernelspec": {
   "display_name": "Python 3.9.7 ('asciinema-sphinx-vB6_R_IB-py3.9')",
   "language": "python",
   "name": "python3"
  },
  "language_info": {
   "codemirror_mode": {
    "name": "ipython",
    "version": 3
   },
   "file_extension": ".py",
   "mimetype": "text/x-python",
   "name": "python",
   "nbconvert_exporter": "python",
   "pygments_lexer": "ipython3",
   "version": "3.9.7"
  },
  "orig_nbformat": 4
 },
 "nbformat": 4,
 "nbformat_minor": 2
}
